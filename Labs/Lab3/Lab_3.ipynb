{
 "cells": [
  {
   "cell_type": "markdown",
   "id": "7364dd45",
   "metadata": {},
   "source": [
    "# LAB 3: LINEAR REGRESSION USING ROBUST FUNCTIONS\n",
    "\n",
    "## 1. INTRODUCTION"
   ]
  },
  {
   "cell_type": "code",
   "execution_count": 1,
   "id": "fa600abc",
   "metadata": {},
   "outputs": [],
   "source": [
    "import numpy as np\n",
    "import matplotlib.pyplot as plt"
   ]
  },
  {
   "cell_type": "code",
   "execution_count": 2,
   "id": "68645f41",
   "metadata": {},
   "outputs": [],
   "source": [
    "def generate_sample(angle_deg=45, n_samples=100):\n",
    "    m = [0.,0.]\n",
    "    angle = angle_deg * np.pi / 180\n",
    "    rot = np.array([[np.cos(angle), -np.sin(angle)], [np.sin(angle), np.cos(angle)]])\n",
    "    \n",
    "    lamb = np.array([[n_samples, 0],[0, 1]])\n",
    "    s = np.dot(rot, np.dot(lamb, rot.transpose()))\n",
    "    c = np.random.multivariate_normal(m, s, n_samples)\n",
    "    \n",
    "    return c"
   ]
  },
  {
   "cell_type": "code",
   "execution_count": 3,
   "id": "366b0d55",
   "metadata": {},
   "outputs": [],
   "source": [
    "c = generate_sample()\n",
    "x, y = c[:, 0].ravel(), c[:, 1].ravel()"
   ]
  },
  {
   "cell_type": "code",
   "execution_count": 4,
   "id": "8f36f1d5",
   "metadata": {
    "scrolled": true
   },
   "outputs": [
    {
     "data": {
      "text/plain": [
       "<matplotlib.collections.PathCollection at 0x7fcbb0b6c4f0>"
      ]
     },
     "execution_count": 4,
     "metadata": {},
     "output_type": "execute_result"
    },
    {
     "data": {
      "image/png": "[encoded data removed]",
      "text/plain": [
       "<Figure size 432x288 with 1 Axes>"
      ]
     },
     "metadata": {
      "needs_background": "light"
     },
     "output_type": "display_data"
    }
   ],
   "source": [
    "plt.scatter(x, y)"
   ]
  },
  {
   "cell_type": "code",
   "execution_count": 5,
   "id": "d3bc94a0",
   "metadata": {},
   "outputs": [],
   "source": [
    "def error(x, y, w):\n",
    "    return 1 / 2 * np.sum((w[0] * x + w[1] - y) ** 2)\n",
    "\n",
    "def grad_error(x, y, w):\n",
    "    return np.array([np.sum((w[0] * x + w[1] - y) * x), np.sum(w[0] * x + w[1] - y)])"
   ]
  },
  {
   "cell_type": "code",
   "execution_count": 6,
   "id": "34339df2",
   "metadata": {},
   "outputs": [],
   "source": [
    "def adapting_gradient_descent(x, y, f, grad_f, tol=1e-5, max_iter=250):\n",
    "    np.random.seed(42)\n",
    "    w = np.random.uniform(0, 1, (2, ))\n",
    "    n = 0\n",
    "    path = [w]\n",
    "    alpha = 1\n",
    "    \n",
    "    while np.linalg.norm(grad_f(x, y, w)) >= tol and n < max_iter:\n",
    "        alpha = 1\n",
    "        \n",
    "        while f(x, y, w - alpha * grad_f(x, y, w)) - f(x, y, w) >= 0:\n",
    "            alpha = alpha / 2\n",
    "        \n",
    "        n = n + 1\n",
    "        w = w - alpha * grad_f(x, y, w)\n",
    "        path.append(w)\n",
    "    \n",
    "    return w, np.array(path), n"
   ]
  },
  {
   "cell_type": "code",
   "execution_count": 7,
   "id": "39255079",
   "metadata": {},
   "outputs": [],
   "source": [
    "w_opt, path, n = adapting_gradient_descent(x, y, error, grad_error)\n",
    "print(w_opt)"
   ]
  },
  {
   "cell_type": "code",
   "execution_count": 8,
   "id": "040b23da",
   "metadata": {},
   "outputs": [
    {
     "name": "stdout",
     "output_type": "stream",
     "text": [
      "[ 0.96865722 -0.23426745]\n"
     ]
    }
   ],
   "source": [
    "print(w_opt)"
   ]
  },
  {
   "cell_type": "code",
   "execution_count": 9,
   "id": "fa71fc6d",
   "metadata": {
    "scrolled": false
   },
   "outputs": [
    {
     "data": {
      "text/plain": [
       "<matplotlib.collections.PathCollection at 0x7fcbb0a0fc10>"
      ]
     },
     "execution_count": 9,
     "metadata": {},
     "output_type": "execute_result"
    },
    {
     "data": {
      "image/png": "[encoded data removed]",
      "text/plain": [
       "<Figure size 432x288 with 1 Axes>"
      ]
     },
     "metadata": {
      "needs_background": "light"
     },
     "output_type": "display_data"
    }
   ],
   "source": [
    "plt.plot(x, w_opt[0] * x + w_opt[1], 'r')\n",
    "plt.scatter(x, y)"
   ]
  },
  {
   "cell_type": "markdown",
   "id": "66c50a0f",
   "metadata": {},
   "source": [
    "Adding an outlier"
   ]
  },
  {
   "cell_type": "code",
   "execution_count": 10,
   "id": "39199fae",
   "metadata": {},
   "outputs": [],
   "source": [
    "x[1] = -40\n",
    "y[1] = 20"
   ]
  },
  {
   "cell_type": "code",
   "execution_count": 11,
   "id": "7e9566ad",
   "metadata": {},
   "outputs": [
    {
     "name": "stdout",
     "output_type": "stream",
     "text": [
      "[0.55782891 0.05767481]\n"
     ]
    }
   ],
   "source": [
    "w_opt, path, n = adapting_gradient_descent(x, y, error, grad_error)\n",
    "print(w_opt)"
   ]
  },
  {
   "cell_type": "code",
   "execution_count": 12,
   "id": "cca0587a",
   "metadata": {},
   "outputs": [
    {
     "data": {
      "text/plain": [
       "<matplotlib.collections.PathCollection at 0x7fcbb0985fa0>"
      ]
     },
     "execution_count": 12,
     "metadata": {},
     "output_type": "execute_result"
    },
    {
     "data": {
      "image/png": "[encoded data removed]",
      "text/plain": [
       "<Figure size 432x288 with 1 Axes>"
      ]
     },
     "metadata": {
      "needs_background": "light"
     },
     "output_type": "display_data"
    }
   ],
   "source": [
    "plt.plot(x, w_opt[0] * x + w_opt[1], 'r')\n",
    "plt.scatter(x, y)"
   ]
  },
  {
   "cell_type": "code",
   "execution_count": null,
   "id": "7be33ae2",
   "metadata": {},
   "outputs": [],
   "source": []
  }
 ],
 "metadata": {
  "kernelspec": {
   "display_name": "Python 3 (ipykernel)",
   "language": "python",
   "name": "python3"
  },
  "language_info": {
   "codemirror_mode": {
    "name": "ipython",
    "version": 3
   },
   "file_extension": ".py",
   "mimetype": "text/x-python",
   "name": "python",
   "nbconvert_exporter": "python",
   "pygments_lexer": "ipython3",
   "version": "3.8.12"
  }
 },
 "nbformat": 4,
 "nbformat_minor": 5
}

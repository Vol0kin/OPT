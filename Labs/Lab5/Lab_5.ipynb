{
 "cells": [
  {
   "cell_type": "markdown",
   "id": "827eb108",
   "metadata": {},
   "source": [
    "# LAB 5. CONSTRAINED OPTIMIZATION: EQUALITY AND INEQUALITY CONSTRAINTS "
   ]
  },
  {
   "cell_type": "code",
   "execution_count": 1,
   "id": "6aec7392",
   "metadata": {},
   "outputs": [],
   "source": [
    "import numpy as np\n",
    "import matplotlib.pyplot as plt\n",
    "import importlib #QPGC = importlib.import_module(\"QPGC\",\"./QPGC.pyc\")"
   ]
  },
  {
   "cell_type": "code",
   "execution_count": 2,
   "id": "1a9aec45",
   "metadata": {},
   "outputs": [],
   "source": [
    "from QPGC import QPGenericConstraints"
   ]
  },
  {
   "cell_type": "code",
   "execution_count": 3,
   "id": "9fa4a029",
   "metadata": {},
   "outputs": [
    {
     "name": "stdout",
     "output_type": "stream",
     "text": [
      "Help on function QPGenericConstraints in module QPGC:\n",
      "\n",
      "QPGenericConstraints(G, g, A, C, b, d)\n",
      "    Convex optimization problem with equality and inequality constraints:\n",
      "     \n",
      "               min f(x)=1/2 x^T G X + g^T x     s.t.   A^T x = b i C^T x >= d\n",
      "    \n",
      "    Call it with:\n",
      "    \n",
      "    x = QPGenericConstrains(G, g, A, C, b, d)\n",
      "    \n",
      "    Notation:\n",
      "    \n",
      "    n = number of variables\n",
      "    p = number of equality constants\n",
      "    m = number of inequality constants\n",
      "     \n",
      "    Dimensions:   G -> n x n\n",
      "                  g -> n x 1\n",
      "                  A -> n x p\n",
      "                  C -> n x m\n",
      "                  b -> p x 1  \n",
      "                  d -> m x 1\n",
      "\n"
     ]
    }
   ],
   "source": [
    "help(QPGenericConstraints)"
   ]
  },
  {
   "cell_type": "code",
   "execution_count": 4,
   "id": "0b18e1b4",
   "metadata": {},
   "outputs": [],
   "source": [
    "def Y(y):\n",
    "    Y=np.diagflat(y)\n",
    "    return Y"
   ]
  },
  {
   "cell_type": "code",
   "execution_count": 5,
   "id": "efd8f765",
   "metadata": {},
   "outputs": [],
   "source": [
    "def G(X,Y):\n",
    "    return np.dot(Y,np.dot(X.T,np.dot(X,Y)))"
   ]
  },
  {
   "cell_type": "code",
   "execution_count": 6,
   "id": "8384fadb",
   "metadata": {},
   "outputs": [],
   "source": [
    "def g(n_samples):  # n_samples=m\n",
    "    return (-1)*np.ones(n_samples)"
   ]
  },
  {
   "cell_type": "code",
   "execution_count": 7,
   "id": "add5c393",
   "metadata": {},
   "outputs": [],
   "source": [
    "def A(y):\n",
    "    return y"
   ]
  },
  {
   "cell_type": "code",
   "execution_count": 8,
   "id": "a8c4a22d",
   "metadata": {},
   "outputs": [],
   "source": [
    "b=0"
   ]
  },
  {
   "cell_type": "code",
   "execution_count": 9,
   "id": "f33aa4a7",
   "metadata": {},
   "outputs": [],
   "source": [
    "def C(n_samples): # n_samples=m\n",
    "    return np.block([[np.eye(n_samples)],[-np.eye(n_samples)]]).T"
   ]
  },
  {
   "cell_type": "code",
   "execution_count": 10,
   "id": "eaf29457",
   "metadata": {},
   "outputs": [],
   "source": [
    "def d(n_samples, K): # n_samples=m\n",
    "    return np.r_[np.zeros(n_samples), -K * np.ones(n_samples)]"
   ]
  },
  {
   "cell_type": "code",
   "execution_count": 11,
   "id": "8d8109b5",
   "metadata": {},
   "outputs": [],
   "source": [
    "def data_gen(m1,s1,m2,s2,n_samples,n_true):                            # n_samples=m\n",
    "    X_plus = np.random.multivariate_normal(m1,s1,n_true).T\n",
    "    X_minus= np.random.multivariate_normal(m2,s2,n_samples-n_true).T\n",
    "    X=np.block([X_plus,X_minus])\n",
    "    y=np.r_[np.ones(n_true),-np.ones(n_samples-n_true)]\n",
    "    return X,y"
   ]
  },
  {
   "cell_type": "code",
   "execution_count": 12,
   "id": "45648593",
   "metadata": {},
   "outputs": [],
   "source": [
    "m1=[0.,0.]\n",
    "s1=[[1,-0.9],[-0.9,1]]\n",
    "m2sep=[3.,6.]\n",
    "s2sep=[[1,0],[0,1]]\n",
    "m2nsep=[1.,2.]\n",
    "s2nsep=s2sep"
   ]
  },
  {
   "cell_type": "markdown",
   "id": "80fe89d1",
   "metadata": {},
   "source": [
    "## SIMPLE CASE"
   ]
  },
  {
   "cell_type": "code",
   "execution_count": 13,
   "id": "4fc79d98",
   "metadata": {},
   "outputs": [],
   "source": [
    "np.random.seed(8)\n",
    "n_samples=4\n",
    "K=1\n",
    "X,y=data_gen(m1,s1,m2sep,s2sep,4,2)"
   ]
  },
  {
   "cell_type": "code",
   "execution_count": 14,
   "id": "b59a542a",
   "metadata": {},
   "outputs": [
    {
     "data": {
      "image/png": "[encoded data removed]",
      "text/plain": [
       "<Figure size 432x288 with 1 Axes>"
      ]
     },
     "metadata": {
      "needs_background": "light"
     },
     "output_type": "display_data"
    },
    {
     "data": {
      "text/plain": [
       "(array([[ 0.15512288,  1.58767474,  0.70350843,  4.72783617],\n",
       "        [ 0.3329136 , -2.2076691 ,  8.4098343 ,  8.20455628]]),\n",
       " array([ 1.,  1., -1., -1.]))"
      ]
     },
     "execution_count": 14,
     "metadata": {},
     "output_type": "execute_result"
    }
   ],
   "source": [
    "plt.scatter(X[0], X[1])\n",
    "plt.show()\n",
    "X,y"
   ]
  },
  {
   "cell_type": "code",
   "execution_count": 15,
   "id": "2a97f27b",
   "metadata": {},
   "outputs": [],
   "source": [
    "v1,v2,v3,v4,v5,v6=G(X,Y(y)), g(n_samples), A(y), C(n_samples), b, d(n_samples,K)"
   ]
  },
  {
   "cell_type": "code",
   "execution_count": 17,
   "id": "c2337be9",
   "metadata": {},
   "outputs": [
    {
     "ename": "IndexError",
     "evalue": "tuple index out of range",
     "output_type": "error",
     "traceback": [
      "\u001b[1;31m---------------------------------------------------------------------------\u001b[0m",
      "\u001b[1;31mIndexError\u001b[0m                                Traceback (most recent call last)",
      "\u001b[1;32m<ipython-input-17-c87137bde3f6>\u001b[0m in \u001b[0;36m<module>\u001b[1;34m\u001b[0m\n\u001b[1;32m----> 1\u001b[1;33m \u001b[0mx\u001b[0m\u001b[1;33m=\u001b[0m\u001b[0mQPGenericConstraints\u001b[0m\u001b[1;33m(\u001b[0m\u001b[0mv1\u001b[0m\u001b[1;33m,\u001b[0m \u001b[0mv2\u001b[0m\u001b[1;33m,\u001b[0m \u001b[0mv3\u001b[0m\u001b[1;33m,\u001b[0m \u001b[0mv4\u001b[0m\u001b[1;33m,\u001b[0m \u001b[0mv5\u001b[0m\u001b[1;33m,\u001b[0m \u001b[0mv6\u001b[0m\u001b[1;33m)\u001b[0m\u001b[1;33m\u001b[0m\u001b[1;33m\u001b[0m\u001b[0m\n\u001b[0m",
      "\u001b[1;32m~\\Desktop\\Máster DS\\OPTIMIZATION\\Opt labs\\Lab 5\\QPGC.pyc\u001b[0m in \u001b[0;36mQPGenericConstraints\u001b[1;34m(G, g, A, C, b, d)\u001b[0m\n",
      "\u001b[1;31mIndexError\u001b[0m: tuple index out of range"
     ]
    }
   ],
   "source": [
    "x=QPGenericConstraints(v1, v2, v3, v4, v5, v6)"
   ]
  },
  {
   "cell_type": "code",
   "execution_count": null,
   "id": "42489568",
   "metadata": {},
   "outputs": [],
   "source": []
  }
 ],
 "metadata": {
  "kernelspec": {
   "display_name": "Python 3",
   "language": "python",
   "name": "python3"
  },
  "language_info": {
   "codemirror_mode": {
    "name": "ipython",
    "version": 3
   },
   "file_extension": ".py",
   "mimetype": "text/x-python",
   "name": "python",
   "nbconvert_exporter": "python",
   "pygments_lexer": "ipython3",
   "version": "3.8.8"
  }
 },
 "nbformat": 4,
 "nbformat_minor": 5
}

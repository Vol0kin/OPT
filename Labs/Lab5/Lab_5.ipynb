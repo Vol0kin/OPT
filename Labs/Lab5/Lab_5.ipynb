{
 "cells": [
  {
   "cell_type": "markdown",
   "id": "827eb108",
   "metadata": {},
   "source": [
    "# LAB 5. CONSTRAINED OPTIMIZATION: EQUALITY AND INEQUALITY CONSTRAINTS "
   ]
  },
  {
   "cell_type": "code",
   "execution_count": 1,
   "id": "6aec7392",
   "metadata": {},
   "outputs": [],
   "source": [
    "import numpy as np\n",
    "import matplotlib.pyplot as plt\n",
    "from QPGC import QPGenericConstraints"
   ]
  },
  {
   "cell_type": "code",
   "execution_count": 2,
   "id": "9fa4a029",
   "metadata": {},
   "outputs": [
    {
     "name": "stdout",
     "output_type": "stream",
     "text": [
      "Help on function QPGenericConstraints in module QPGC:\n",
      "\n",
      "QPGenericConstraints(G, g, A, C, b, d)\n",
      "    Convex optimization problem with equality and inequality constraints:\n",
      "     \n",
      "               min f(x)=1/2 x^T G X + g^T x     s.t.   A^T x = b i C^T x >= d\n",
      "    \n",
      "    Call it with:\n",
      "    \n",
      "    x = QPGenericConstrains(G, g, A, C, b, d)\n",
      "    \n",
      "    Notation:\n",
      "    \n",
      "    n = number of variables\n",
      "    p = number of equality constants\n",
      "    m = number of inequality constants\n",
      "     \n",
      "    Dimensions:   G -> n x n\n",
      "                  g -> n x 1\n",
      "                  A -> n x p\n",
      "                  C -> n x m\n",
      "                  b -> p x 1  \n",
      "                  d -> m x 1\n",
      "\n"
     ]
    }
   ],
   "source": [
    "help(QPGenericConstraints)"
   ]
  },
  {
   "cell_type": "code",
   "execution_count": 3,
   "id": "8d8109b5",
   "metadata": {},
   "outputs": [],
   "source": [
    "def generate_sample(m1, s1, m2, s2, n_samples):  # n_samples = m\n",
    "    n_samples_class = n_samples // 2\n",
    "    \n",
    "    X_positive = np.random.multivariate_normal(m1, s1, n_samples_class)\n",
    "    X_negative = np.random.multivariate_normal(m2, s2, n_samples_class)\n",
    "    \n",
    "    X = np.hstack([X_positive, X_negative])\n",
    "    y = np.r_[np.ones(n_samples_class), -np.ones(n_samples_class)]\n",
    "    \n",
    "    return X, y"
   ]
  },
  {
   "cell_type": "code",
   "execution_count": 4,
   "id": "5c66cc3d",
   "metadata": {},
   "outputs": [],
   "source": [
    "def plot_sample(X, y, w=None, b=None):\n",
    "    cdict = {1: 'red', -1: 'blue'}\n",
    "    print(X, y)\n",
    "    \n",
    "    for c in np.unique(y):\n",
    "        idx = np.where(y == c)\n",
    "        plt.scatter(X[0, idx], X[1, idx], c=cdict[c], label=int(c))\n",
    "\n",
    "    # This part has to be changed later on\n",
    "    if w is not None and b is not None:\n",
    "        x_values = np.arange(-5, 5, 0.1)\n",
    "        line = x_values * w[0] + b\n",
    "\n",
    "        plt.plot(x_values, -line / w[1], 'k')\n",
    "        plt.plot(x_values, (-line + 1) / w[1], 'k--')\n",
    "        plt.plot(x_values, (-line - 1) / w[1], 'k--')\n",
    "\n",
    "    plt.legend()\n",
    "    plt.show()"
   ]
  },
  {
   "cell_type": "code",
   "execution_count": 5,
   "id": "d067c613",
   "metadata": {},
   "outputs": [],
   "source": [
    "def create_dual_formulation(X, y, n_samples):\n",
    "    Y = np.diagflat(y)\n",
    "    identity_mat = np.eye(n_samples)\n",
    "    ones = np.ones(n_samples)\n",
    "    \n",
    "    G = np.dot(Y, np.dot(X.T, np.dot(X, Y)))\n",
    "    g = -ones\n",
    "    A = y.reshape(-1, 1)\n",
    "    C = np.hstack([identity_mat, -identity_mat])\n",
    "    b = np.zeros(1)\n",
    "    d = np.r_[np.zeros(n_samples), -ones]\n",
    "    \n",
    "    return G, g, A, C, b, d"
   ]
  },
  {
   "cell_type": "code",
   "execution_count": 6,
   "id": "45648593",
   "metadata": {},
   "outputs": [],
   "source": [
    "m1 = [0.,0.]\n",
    "s1 = [[1, -0.9], [-0.9, 1]]\n",
    "m2sep = [3., 6.]\n",
    "s2sep = [[1, 0], [0, 1]]\n",
    "m2nsep = [1., 2.]\n",
    "s2nsep = s2sep"
   ]
  },
  {
   "cell_type": "markdown",
   "id": "80fe89d1",
   "metadata": {},
   "source": [
    "## SIMPLE CASE"
   ]
  },
  {
   "cell_type": "code",
   "execution_count": 7,
   "id": "4fc79d98",
   "metadata": {},
   "outputs": [],
   "source": [
    "n_samples = 4\n",
    "K = 1\n",
    "X, y = generate_sample(m1, s1, m2sep, s2sep, n_samples)"
   ]
  },
  {
   "cell_type": "code",
   "execution_count": 8,
   "id": "b59a542a",
   "metadata": {},
   "outputs": [
    {
     "name": "stdout",
     "output_type": "stream",
     "text": [
      "[[-0.52931895 -0.04223444  3.79378232  4.52725766]\n",
      " [-0.78009253  0.56495316  2.84794616  6.61792974]] [ 1.  1. -1. -1.]\n"
     ]
    },
    {
     "data": {
      "image/png": "[encoded data removed]",
      "text/plain": [
       "<Figure size 432x288 with 1 Axes>"
      ]
     },
     "metadata": {
      "needs_background": "light"
     },
     "output_type": "display_data"
    }
   ],
   "source": [
    "plot_sample(X, y)"
   ]
  },
  {
   "cell_type": "code",
   "execution_count": 9,
   "id": "2a97f27b",
   "metadata": {},
   "outputs": [
    {
     "name": "stdout",
     "output_type": "stream",
     "text": [
      "(4, 4)\n",
      "(4,)\n",
      "(4, 1)\n",
      "(4, 8)\n",
      "(1,)\n",
      "(8,)\n"
     ]
    }
   ],
   "source": [
    "G, g, A, C, b, d = create_dual_formulation(X, y, n_samples)\n",
    "print(G.shape)\n",
    "print(g.shape)\n",
    "print(A.shape)\n",
    "print(C.shape)\n",
    "print(b.shape)\n",
    "print(d.shape)"
   ]
  },
  {
   "cell_type": "code",
   "execution_count": 10,
   "id": "c2337be9",
   "metadata": {},
   "outputs": [
    {
     "name": "stdout",
     "output_type": "stream",
     "text": [
      "[9.61475614e-11 1.00365926e-01 1.00365926e-01 3.82417846e-11]\n"
     ]
    }
   ],
   "source": [
    "x = QPGenericConstraints(G, g, A, C, b, d)\n",
    "print(x)"
   ]
  }
 ],
 "metadata": {
  "kernelspec": {
   "display_name": "Python 3 (ipykernel)",
   "language": "python",
   "name": "python3"
  },
  "language_info": {
   "codemirror_mode": {
    "name": "ipython",
    "version": 3
   },
   "file_extension": ".py",
   "mimetype": "text/x-python",
   "name": "python",
   "nbconvert_exporter": "python",
   "pygments_lexer": "ipython3",
   "version": "3.8.12"
  }
 },
 "nbformat": 4,
 "nbformat_minor": 5
}

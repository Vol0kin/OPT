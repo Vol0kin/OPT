{
 "cells": [
  {
   "cell_type": "markdown",
   "id": "827eb108",
   "metadata": {},
   "source": [
    "# LAB 5. CONSTRAINED OPTIMIZATION: EQUALITY AND INEQUALITY CONSTRAINTS "
   ]
  },
  {
   "cell_type": "code",
   "execution_count": 1,
   "id": "6aec7392",
   "metadata": {},
   "outputs": [],
   "source": [
    "import numpy as np\n",
    "import matplotlib.pyplot as plt\n",
    "from QPGC import QPGenericConstraints"
   ]
  },
  {
   "cell_type": "code",
   "execution_count": 2,
   "id": "9fa4a029",
   "metadata": {},
   "outputs": [
    {
     "name": "stdout",
     "output_type": "stream",
     "text": [
      "Help on function QPGenericConstraints in module QPGC:\n",
      "\n",
      "QPGenericConstraints(G, g, A, C, b, d)\n",
      "    Convex optimization problem with equality and inequality constraints:\n",
      "     \n",
      "               min f(x)=1/2 x^T G X + g^T x     s.t.   A^T x = b i C^T x >= d\n",
      "    \n",
      "    Call it with:\n",
      "    \n",
      "    x = QPGenericConstrains(G, g, A, C, b, d)\n",
      "    \n",
      "    Notation:\n",
      "    \n",
      "    n = number of variables\n",
      "    p = number of equality constants\n",
      "    m = number of inequality constants\n",
      "     \n",
      "    Dimensions:   G -> n x n\n",
      "                  g -> n x 1\n",
      "                  A -> n x p\n",
      "                  C -> n x m\n",
      "                  b -> p x 1  \n",
      "                  d -> m x 1\n",
      "\n"
     ]
    }
   ],
   "source": [
    "help(QPGenericConstraints)"
   ]
  },
  {
   "cell_type": "code",
   "execution_count": 3,
   "id": "8d8109b5",
   "metadata": {},
   "outputs": [],
   "source": [
    "def generate_sample(m1, s1, m2, s2, n_samples, row_format=False):  # n_samples = m\n",
    "    n_samples_class = n_samples // 2\n",
    "    \n",
    "    X_positive = np.random.multivariate_normal(m1, s1, n_samples_class)\n",
    "    X_negative = np.random.multivariate_normal(m2, s2, n_samples_class)\n",
    "    \n",
    "    if row_format:\n",
    "        X = np.hstack([X_positive.T, X_negative.T])\n",
    "    else:\n",
    "        X = np.vstack([X_positive, X_negative])\n",
    "    \n",
    "    y = np.r_[np.ones(n_samples_class), -np.ones(n_samples_class)]\n",
    "    \n",
    "    return X, y"
   ]
  },
  {
   "cell_type": "code",
   "execution_count": 4,
   "id": "5c66cc3d",
   "metadata": {},
   "outputs": [],
   "source": [
    "def plot_sample(X, y, w=None, b=None, row_format=False):\n",
    "    cdict = {1: 'red', -1: 'blue'}\n",
    "    \n",
    "    for c in np.unique(y):\n",
    "        idx = np.where(y == c)\n",
    "\n",
    "        x_coords = X[0, idx] if row_format else X[idx, 0]\n",
    "        y_coords = X[1, idx] if row_format else X[idx, 1]\n",
    "\n",
    "        plt.scatter(x_coords, y_coords, c=cdict[c], label=int(c))\n",
    "\n",
    "    if w is not None and b is not None:\n",
    "        # Compute min and max values for x-axis\n",
    "        x_axis_vals = X[0, :] if row_format else X[:, 0]\n",
    "        min_x = np.min(x_axis_vals)\n",
    "        max_x = np.max(x_axis_vals)\n",
    "        \n",
    "        x_values = np.arange(min_x, max_x, 0.1)\n",
    "        line = x_values * w[0] + b\n",
    "\n",
    "        plt.plot(x_values, -line / w[1], 'k')\n",
    "        plt.plot(x_values, (-line + 1) / w[1], 'k--')\n",
    "        plt.plot(x_values, (-line - 1) / w[1], 'k--')\n",
    "\n",
    "    plt.legend()\n",
    "    plt.show()"
   ]
  },
  {
   "cell_type": "code",
   "execution_count": 5,
   "id": "d067c613",
   "metadata": {},
   "outputs": [],
   "source": [
    "def create_dual_formulation(X, y, n_samples, K=1):\n",
    "    Y = np.diagflat(y)\n",
    "    identity_mat = np.eye(n_samples)\n",
    "    ones = np.ones(n_samples)\n",
    "    \n",
    "    G = np.dot(Y, np.dot(X.T, np.dot(X, Y)))\n",
    "    g = -ones\n",
    "    A = y.reshape(-1, 1)\n",
    "    C = np.hstack([identity_mat, -identity_mat])\n",
    "    b = np.zeros(1)\n",
    "    d = np.r_[np.zeros(n_samples), -K * ones]\n",
    "    \n",
    "    return G, g, A, C, b, d\n",
    "\n",
    "\n",
    "def svm_dual_space(X, y, n_samples, K=1, plot_results=True):\n",
    "    # Create the data for the formulation in the dual space\n",
    "    G, g, A, C, b, d = create_dual_formulation(X, y, n_samples)\n",
    "    \n",
    "    # Solve the problem and get the \\alpha values\n",
    "    alpha = QPGenericConstraints(G, g, A, C, b, d)\n",
    "    \n",
    "    # Get the hyperplane and the bias\n",
    "    w = np.dot(alpha * y, X.T)\n",
    "    idx = np.where(alpha > 1e-10)[0]\n",
    "    \n",
    "    b = np.mean(y[idx] - np.dot(w, X[:, idx]))\n",
    "    \n",
    "    if plot_results:\n",
    "        plot_sample(X, y, w, b, row_format=True)\n",
    "    \n",
    "    return w, b"
   ]
  },
  {
   "cell_type": "code",
   "execution_count": 6,
   "id": "45648593",
   "metadata": {},
   "outputs": [],
   "source": [
    "m1 = [0.,0.]\n",
    "s1 = [[1, -0.9], [-0.9, 1]]\n",
    "m2sep = [3., 6.]\n",
    "s2sep = [[1, 0], [0, 1]]\n",
    "m2nsep = [1., 2.]\n",
    "s2nsep = s2sep"
   ]
  },
  {
   "cell_type": "markdown",
   "id": "80fe89d1",
   "metadata": {},
   "source": [
    "## SIMPLE CASE"
   ]
  },
  {
   "cell_type": "code",
   "execution_count": 7,
   "id": "4fc79d98",
   "metadata": {},
   "outputs": [
    {
     "name": "stdout",
     "output_type": "stream",
     "text": [
      "[[-0.36808664  1.3155271   3.28611907  4.13859703]\n",
      " [ 0.23524543 -1.816391    4.95312751  6.65609463]]\n"
     ]
    },
    {
     "data": {
      "image/png": "[encoded data removed]",
      "text/plain": [
       "<Figure size 432x288 with 1 Axes>"
      ]
     },
     "metadata": {
      "needs_background": "light"
     },
     "output_type": "display_data"
    }
   ],
   "source": [
    "n_samples = 4\n",
    "K = 1\n",
    "\n",
    "X, y = generate_sample(m1, s1, m2sep, s2sep, n_samples, row_format=True)\n",
    "print(X)\n",
    "plot_sample(X, y, row_format=True)"
   ]
  },
  {
   "cell_type": "code",
   "execution_count": 8,
   "id": "42ba674b",
   "metadata": {},
   "outputs": [
    {
     "data": {
      "image/png": "[encoded data removed]",
      "text/plain": [
       "<Figure size 432x288 with 1 Axes>"
      ]
     },
     "metadata": {
      "needs_background": "light"
     },
     "output_type": "display_data"
    },
    {
     "name": "stdout",
     "output_type": "stream",
     "text": [
      "w: [-0.20522541 -0.26496299]\tb: 0.9867906017470911\n"
     ]
    }
   ],
   "source": [
    "w, b = svm_dual_space(X, y, n_samples)\n",
    "print(f'w: {w}\\tb: {b}')"
   ]
  },
  {
   "cell_type": "code",
   "execution_count": 9,
   "id": "b95915cf",
   "metadata": {
    "scrolled": false
   },
   "outputs": [
    {
     "data": {
      "image/png": "[encoded data removed]",
      "text/plain": [
       "<Figure size 432x288 with 1 Axes>"
      ]
     },
     "metadata": {
      "needs_background": "light"
     },
     "output_type": "display_data"
    }
   ],
   "source": [
    "n_samples = 200\n",
    "X, y = generate_sample(m1, s1, m2sep, s2sep, n_samples, row_format=True)\n",
    "plot_sample(X, y, row_format=True)"
   ]
  },
  {
   "cell_type": "code",
   "execution_count": 10,
   "id": "93910bdc",
   "metadata": {},
   "outputs": [
    {
     "data": {
      "image/png": "[encoded data removed]",
      "text/plain": [
       "<Figure size 432x288 with 1 Axes>"
      ]
     },
     "metadata": {
      "needs_background": "light"
     },
     "output_type": "display_data"
    },
    {
     "name": "stdout",
     "output_type": "stream",
     "text": [
      "w: [-0.29517375 -0.4527318 ]\tb: 1.3876681787027307\n"
     ]
    }
   ],
   "source": [
    "w, b = svm_dual_space(X, y, n_samples)\n",
    "print(f'w: {w}\\tb: {b}')"
   ]
  },
  {
   "cell_type": "code",
   "execution_count": null,
   "id": "1b27e933",
   "metadata": {},
   "outputs": [],
   "source": []
  }
 ],
 "metadata": {
  "kernelspec": {
   "display_name": "Python 3 (ipykernel)",
   "language": "python",
   "name": "python3"
  },
  "language_info": {
   "codemirror_mode": {
    "name": "ipython",
    "version": 3
   },
   "file_extension": ".py",
   "mimetype": "text/x-python",
   "name": "python",
   "nbconvert_exporter": "python",
   "pygments_lexer": "ipython3",
   "version": "3.8.12"
  }
 },
 "nbformat": 4,
 "nbformat_minor": 5
}
